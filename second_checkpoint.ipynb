{
 "cells": [
  {
   "cell_type": "code",
   "execution_count": null,
   "id": "c1bd0224",
   "metadata": {},
   "outputs": [],
   "source": [
    "#question 1\n",
    "x= list()\n",
    "for x in range(1999,3201):\n",
    "    if(x%7==0 and x%5==1)\n",
    "    print(x)\n",
    "    \n",
    "#question 2\n",
    "f=int(input())\n",
    "n=f-1\n",
    "while(f>1):\n",
    "    if(f==0):\n",
    "        1\n",
    "    else:\n",
    "        f*=n\n",
    "        n=n-1\n",
    "        print(f)\n",
    "        \n",
    "#question 3\n",
    "n=int(input())\n",
    "d={i:i*i for i in range(1,n+1)}\n",
    "\n",
    "#question 4\n",
    "l=\"bonjour\"\n",
    "x=list(l)\n",
    "for c in x:\n",
    "    l=x.remove(c)\n",
    "    l=\"\".join(x)\n",
    "    print(\"la chaine devient donc\",l)\n",
    "    print(\"le caractere manquant est\",c)\n",
    "    \n",
    "#question 5\n",
    "import numpy as np\n",
    "a=np.array([2,4,6])\n",
    "print(\"la liste équivalente est\",a.tolist())\n",
    "\n",
    "#question 6\n",
    "import numpy as np\n",
    "m1=np.array([4,6,7])\n",
    "m2=np.array([8,9,10])\n",
    "print(\"la covariance vaut\",np.cov(m1,m2))\n",
    "\n",
    "#question 7\n",
    "from math import sqrt\n",
    "def calculate(d1,d2,d3):\n",
    "    c=50\n",
    "    h=30\n",
    "    q1=sqrt((2*c*d1)/h))\n",
    "    q2=sqrt((2*c*d2)/h))\n",
    "    q3=sqrt((2*c*d3)/h))\n",
    "    return round(q1),round(q2),round(q3)\n",
    "\n"
   ]
  }
 ],
 "metadata": {
  "kernelspec": {
   "display_name": "Python 3",
   "language": "python",
   "name": "python3"
  },
  "language_info": {
   "codemirror_mode": {
    "name": "ipython",
    "version": 3
   },
   "file_extension": ".py",
   "mimetype": "text/x-python",
   "name": "python",
   "nbconvert_exporter": "python",
   "pygments_lexer": "ipython3",
   "version": "3.8.8"
  }
 },
 "nbformat": 4,
 "nbformat_minor": 5
}
